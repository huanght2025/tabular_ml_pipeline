{
  "nbformat": 4,
  "nbformat_minor": 0,
  "metadata": {
    "colab": {
      "provenance": [],
      "authorship_tag": "ABX9TyPiQ1tGiddWtHy3mLlCFATv",
      "include_colab_link": true
    },
    "kernelspec": {
      "name": "python3",
      "display_name": "Python 3"
    },
    "language_info": {
      "name": "python"
    }
  },
  "cells": [
    {
      "cell_type": "markdown",
      "metadata": {
        "id": "view-in-github",
        "colab_type": "text"
      },
      "source": [
        "<a href=\"https://colab.research.google.com/github/huanght2025/tabular_ml_pipeline/blob/main/notebooks/01_exploration.ipynb\" target=\"_parent\"><img src=\"https://colab.research.google.com/assets/colab-badge.svg\" alt=\"Open In Colab\"/></a>"
      ]
    },
    {
      "cell_type": "code",
      "execution_count": 1,
      "metadata": {
        "colab": {
          "base_uri": "https://localhost:8080/"
        },
        "id": "E-WQjdUFC-1T",
        "outputId": "cdd2d138-fda8-4d5a-fb8e-0f0becc42ee0"
      },
      "outputs": [
        {
          "output_type": "stream",
          "name": "stdout",
          "text": [
            "Python Version: 3.12.12 (main, Oct 10 2025, 08:52:57) [GCC 11.4.0]\n",
            "This is my first change to the notebook!\n"
          ]
        }
      ],
      "source": [
        "# House Price Prediction - Data Exploration\n",
        "import sys\n",
        "print(f\"Python Version: {sys.version}\")\n",
        "print(f\"This is my first change to the notebook!\")"
      ]
    }
  ]
}